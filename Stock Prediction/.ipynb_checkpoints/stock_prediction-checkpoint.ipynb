{
 "cells": [
  {
   "cell_type": "code",
   "execution_count": 1,
   "metadata": {},
   "outputs": [],
   "source": [
    "# Create deep neural network in order to predict stocks\n",
    "# NN will be deployed in the cloud for use in Stock Terminal program"
   ]
  },
  {
   "cell_type": "code",
   "execution_count": 3,
   "metadata": {},
   "outputs": [],
   "source": [
    "import numpy as np\n",
    "import pandas as pd\n",
    "from tensorflow import keras\n",
    "\n",
    "apple_data = pd.read_csv('/Users/jasonmoreau/Desktop/Stock Prediction/AAPL.csv', delimiter = ',')"
   ]
  },
  {
   "cell_type": "code",
   "execution_count": 4,
   "metadata": {},
   "outputs": [
    {
     "name": "stdout",
     "output_type": "stream",
     "text": [
      "            Date        Open        High         Low       Close   Adj Close  \\\n",
      "0     2015-12-21   26.820000   26.842501   26.392500   26.832500   24.859543   \n",
      "1     2015-12-22   26.850000   26.930000   26.612499   26.807501   24.836382   \n",
      "2     2015-12-23   26.817499   27.212500   26.799999   27.152500   25.156017   \n",
      "3     2015-12-24   27.250000   27.250000   26.987499   27.007500   25.021677   \n",
      "4     2015-12-28   26.897499   26.922501   26.545000   26.705000   24.741419   \n",
      "...          ...         ...         ...         ...         ...         ...   \n",
      "1254  2020-12-14  122.599998  123.349998  121.540001  121.779999  121.779999   \n",
      "1255  2020-12-15  124.339996  127.900002  124.129997  127.879997  127.879997   \n",
      "1256  2020-12-16  127.410004  128.369995  126.559998  127.809998  127.809998   \n",
      "1257  2020-12-17  128.899994  129.580002  128.039993  128.699997  128.699997   \n",
      "1258  2020-12-18  128.960007  129.100006  126.120003  126.660004  126.660004   \n",
      "\n",
      "         Volume  \n",
      "0     190362400  \n",
      "1     131157600  \n",
      "2     130629600  \n",
      "3      54281600  \n",
      "4     106816800  \n",
      "...         ...  \n",
      "1254   79184500  \n",
      "1255  157572300  \n",
      "1256   98208600  \n",
      "1257   94359800  \n",
      "1258  192354800  \n",
      "\n",
      "[1259 rows x 7 columns]\n"
     ]
    }
   ],
   "source": [
    "# View data\n",
    "print(apple_data)"
   ]
  },
  {
   "cell_type": "code",
   "execution_count": 80,
   "metadata": {},
   "outputs": [
    {
     "data": {
      "text/plain": [
       "0       2015-12-21\n",
       "1       2015-12-22\n",
       "2       2015-12-23\n",
       "3       2015-12-24\n",
       "4       2015-12-28\n",
       "           ...    \n",
       "1254    2020-12-14\n",
       "1255    2020-12-15\n",
       "1256    2020-12-16\n",
       "1257    2020-12-17\n",
       "1258    2020-12-18\n",
       "Name: Date, Length: 1259, dtype: object"
      ]
     },
     "execution_count": 80,
     "metadata": {},
     "output_type": "execute_result"
    }
   ],
   "source": [
    "# View dates\n",
    "df_apple = pd.DataFrame(apple_data)\n",
    "df_apple['Date']"
   ]
  },
  {
   "cell_type": "code",
   "execution_count": 83,
   "metadata": {},
   "outputs": [],
   "source": [
    "# Remove year from dates so that we can only concentrate on the month and dates as observations, not the years\n",
    "# I might have to revert back to adding the years if training doesn't go well\n",
    "apple_arr = np.array(df_apple)\n",
    "\n",
    "for i in apple_arr:        \n",
    "    year_split = i[0].split('-')\n",
    "    i[0] = month_day = year_split[1] + year_split[2]"
   ]
  },
  {
   "cell_type": "code",
   "execution_count": 86,
   "metadata": {},
   "outputs": [],
   "source": [
    "converted_apple_arr = apple_arr.astype(np.float64)"
   ]
  },
  {
   "cell_type": "code",
   "execution_count": null,
   "metadata": {},
   "outputs": [],
   "source": []
  }
 ],
 "metadata": {
  "kernelspec": {
   "display_name": "Python 3",
   "language": "python",
   "name": "python3"
  },
  "language_info": {
   "codemirror_mode": {
    "name": "ipython",
    "version": 3
   },
   "file_extension": ".py",
   "mimetype": "text/x-python",
   "name": "python",
   "nbconvert_exporter": "python",
   "pygments_lexer": "ipython3",
   "version": "3.8.3"
  }
 },
 "nbformat": 4,
 "nbformat_minor": 4
}
